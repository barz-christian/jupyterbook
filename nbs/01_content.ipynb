{
 "cells": [
  {
   "cell_type": "markdown",
   "id": "22d4faca-74d2-4ea5-adb4-f27497ad8d21",
   "metadata": {},
   "source": [
    "# Book content\n",
    "\n",
    "1. Installation, e.g Conda setup and test setup\n",
    "1. Getting quickly an usable Jupyter book - step by step\n",
    "1. Standard workflow to add content\n",
    "1. Publish book"
   ]
  },
  {
   "cell_type": "markdown",
   "id": "68e32dcc-9cbf-4ebb-8237-c0b96cf5318d",
   "metadata": {},
   "source": [
    "# To do\n",
    "\n",
    "- [ ] use GH actions to publish\n",
    "- [] add references"
   ]
  }
 ],
 "metadata": {
  "kernelspec": {
   "display_name": "Python 3 (ipykernel)",
   "language": "python",
   "name": "python3"
  },
  "language_info": {
   "codemirror_mode": {
    "name": "ipython",
    "version": 3
   },
   "file_extension": ".py",
   "mimetype": "text/x-python",
   "name": "python",
   "nbconvert_exporter": "python",
   "pygments_lexer": "ipython3",
   "version": "3.10.12"
  }
 },
 "nbformat": 4,
 "nbformat_minor": 5
}
