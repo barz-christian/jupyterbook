{
 "cells": [
  {
   "cell_type": "markdown",
   "id": "22d4faca-74d2-4ea5-adb4-f27497ad8d21",
   "metadata": {},
   "source": [
    "# Book content\n",
    "\n",
    "1. installation\n",
    "    - basic setup\n",
    "    - test setup\n",
    "1. step by step\n",
    "    - set working directory different from root (housekeeping)\n",
    "    - edit _config.yml\n",
    "    - edit _toc.yml\n",
    "    - change logo\n",
    "1. workflow\n",
    "1. publish book"
   ]
  },
  {
   "cell_type": "markdown",
   "id": "68e32dcc-9cbf-4ebb-8237-c0b96cf5318d",
   "metadata": {},
   "source": [
    "# To do\n",
    "\n",
    "- add references"
   ]
  }
 ],
 "metadata": {
  "kernelspec": {
   "display_name": "Python 3 (ipykernel)",
   "language": "python",
   "name": "python3"
  },
  "language_info": {
   "codemirror_mode": {
    "name": "ipython",
    "version": 3
   },
   "file_extension": ".py",
   "mimetype": "text/x-python",
   "name": "python",
   "nbconvert_exporter": "python",
   "pygments_lexer": "ipython3",
   "version": "3.10.12"
  }
 },
 "nbformat": 4,
 "nbformat_minor": 5
}
