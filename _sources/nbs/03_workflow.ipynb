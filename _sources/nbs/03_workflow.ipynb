{
 "cells": [
  {
   "cell_type": "markdown",
   "id": "7ea852f2-465b-4947-b174-5b6bd3028aee",
   "metadata": {},
   "source": [
    "## Workflow\n",
    "\n",
    "1. create new content, e.g. file `01_summary.ipynb`\n",
    "1. add `01_summary.ipynb` to `_toc.yml`, e.g. `_toc.yml` afterwards looks like:\n",
    "```\n",
    "# Table of contents\n",
    "# Learn more at https://jupyterbook.org/customize/toc.html\n",
    "\n",
    "format: jb-book\n",
    "root: nbs\\intro\n",
    "chapters:\n",
    "- file: nbs\\01_content\n",
    "```\n",
    "1. render book\n",
    "```jb build .```\n",
    "1. push to  branch gh-pages \n",
    "```ghp-import -n -p -f _build/html```\n"
   ]
  },
  {
   "cell_type": "markdown",
   "id": "2d4baaad-ce1f-43e2-b2ae-6785c0e95d27",
   "metadata": {},
   "source": [
    "# Clean book generated files\n",
    "\n",
    "```jupyter-book clean mybook/```\n",
    "\n",
    "to delete `.jupyter_chache` too use\n",
    "\n",
    "```jupyter-book clean mybook/ --all```"
   ]
  }
 ],
 "metadata": {
  "kernelspec": {
   "display_name": "Python 3 (ipykernel)",
   "language": "python",
   "name": "python3"
  },
  "language_info": {
   "codemirror_mode": {
    "name": "ipython",
    "version": 3
   },
   "file_extension": ".py",
   "mimetype": "text/x-python",
   "name": "python",
   "nbconvert_exporter": "python",
   "pygments_lexer": "ipython3",
   "version": "3.10.12"
  }
 },
 "nbformat": 4,
 "nbformat_minor": 5
}
