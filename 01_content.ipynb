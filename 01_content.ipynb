{
 "cells": [
  {
   "cell_type": "markdown",
   "id": "22d4faca-74d2-4ea5-adb4-f27497ad8d21",
   "metadata": {},
   "source": [
    "# content\n",
    "\n",
    "1. installation\n",
    "    - basic setup\n",
    "    - test setup\n",
    "1. step by step\n",
    "    - set working directory different from root (housekeeping)\n",
    "    - edit _config.yml\n",
    "    - edit _toc.yml\n",
    "    - change logo\n",
    "1. workflow"
   ]
  },
  {
   "cell_type": "markdown",
   "id": "68e32dcc-9cbf-4ebb-8237-c0b96cf5318d",
   "metadata": {},
   "source": [
    "# To do\n",
    "\n",
    "- add references"
   ]
  },
  {
   "cell_type": "markdown",
   "id": "20e5c7d3-6b69-465e-a6cf-c0015cf2bc98",
   "metadata": {},
   "source": [
    "# installation\n",
    "\n",
    "To keep it short we just show code snippets. \n",
    "Assumptions:\n",
    "- you have [conda or minicondainstalled](https://docs.conda.io/en/latest/miniconda.html).\n",
    "- like to use [jupyter lab](https://jupyterlab.readthedocs.io/en/stable/getting_started/installation.html) as UI, otherwuse change code below accordingly\n",
    "\n",
    "## conda enviroment\n",
    "\n",
    "use the following code in the conda prompt\n",
    "\n",
    "```\n",
    "conda create -n jupyterbook python=3.10\n",
    "conda activate jupyterbook\n",
    "conda install -c conda-forge jupyter-book\n",
    "conda install pandas\n",
    "conda install -c conda-forge matplotlib\n",
    "conda install -c conda-forge jupyterlab\n",
    "```\n",
    "\n",
    "## git\n",
    "\n",
    "TBD\n",
    "\n",
    "## "
   ]
  },
  {
   "cell_type": "markdown",
   "id": "af4a0d57-dba0-4628-99cc-ec70ca67e5e3",
   "metadata": {},
   "source": [
    "## step by step\n",
    "\n",
    "- https://jupyterbook.org/en/stable/start/create.html\n",
    "\n",
    "### create book template and test setup\n",
    "\n",
    "Create a template book using the following code in the conda prompt\n",
    "```\n",
    "jupyter-book create mybook/\n",
    "```\n",
    "\n",
    "Test setup\n",
    "```\n",
    "jupyter-book build mybook/\n",
    "```\n",
    "\n",
    "check `index.html` in `_build/html/`\n",
    "\n",
    "### clean up\n",
    "\n",
    "to have some housekeeping\n",
    "\n",
    "### `_config.yml`\n",
    "\n",
    "### `_toc.yml`\n",
    "\n",
    "\n",
    "## workflow\n",
    "\n",
    "1. add content\n",
    "2. edit `_toc.yml`\n",
    "3. build\n"
   ]
  },
  {
   "cell_type": "code",
   "execution_count": null,
   "id": "9e36072d-4c0b-486b-ac8d-9bf2aafccc23",
   "metadata": {},
   "outputs": [],
   "source": []
  }
 ],
 "metadata": {
  "kernelspec": {
   "display_name": "Python 3 (ipykernel)",
   "language": "python",
   "name": "python3"
  },
  "language_info": {
   "codemirror_mode": {
    "name": "ipython",
    "version": 3
   },
   "file_extension": ".py",
   "mimetype": "text/x-python",
   "name": "python",
   "nbconvert_exporter": "python",
   "pygments_lexer": "ipython3",
   "version": "3.10.12"
  }
 },
 "nbformat": 4,
 "nbformat_minor": 5
}
